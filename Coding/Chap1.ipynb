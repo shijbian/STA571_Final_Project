{
 "cells": [
  {
   "cell_type": "code",
   "execution_count": 2,
   "metadata": {
    "collapsed": false
   },
   "outputs": [
    {
     "name": "stdout",
     "output_type": "stream",
     "text": [
      "*** Introductory Examples for the NLTK Book ***\n",
      "Loading text1, ..., text9 and sent1, ..., sent9\n",
      "Type the name of the text or sentence to view it.\n",
      "Type: 'texts()' or 'sents()' to list the materials.\n",
      "text1: Moby Dick by Herman Melville 1851\n",
      "text2: Sense and Sensibility by Jane Austen 1811\n",
      "text3: The Book of Genesis\n",
      "text4: Inaugural Address Corpus\n",
      "text5: Chat Corpus\n",
      "text6: Monty Python and the Holy Grail\n",
      "text7: Wall Street Journal\n",
      "text8: Personals Corpus\n",
      "text9: The Man Who Was Thursday by G . K . Chesterton 1908\n"
     ]
    }
   ],
   "source": [
    "import nltk\n",
    "from nltk.book import *"
   ]
  },
  {
   "cell_type": "code",
   "execution_count": 11,
   "metadata": {
    "collapsed": false
   },
   "outputs": [
    {
     "name": "stdout",
     "output_type": "stream",
     "text": [
      "Displaying 25 of 29 matches:\n",
      "eriting that property , could be but small . Their mother had nothing , and the\n",
      "uch as looking out for a comfortable small house for them , helping them to mov\n",
      "y well timed . It was the offer of a small house , on very easy terms , belongi\n",
      "e , they reached their own house . A small green court was the whole of its dem\n",
      "As a house , Barton Cottage , though small , was comfortable and compact ; but \n",
      "parison of Norland , it was poor and small indeed !-- but the tears which recol\n",
      "to be sure ,\" said she , \" it is too small for our family , but we will make ou\n",
      "uilding . These parlors are both too small for such parties of our friends as I\n",
      "me be uncomfortable , or her fortune small , I can suppose that she might bring\n",
      "er hand with tender compassion , her small degree of fortitude was quite overco\n",
      "ny testimony in his favour , however small , was pleasing to her . \" I am so gl\n",
      " quite out of heart .\" Then taking a small miniature from her pocket , she adde\n",
      " Volume 1 ends .] CHAPTER 23 However small Elinor ' s general dependence on Luc\n",
      " . I have been always used to a very small income , and could struggle with any\n",
      "nown that Lady Middleton had given a small dance of eight or nine couple , with\n",
      " but she may be ' prenticed out at a small cost , and then what does it signify\n",
      "eaning , in silent misery , over the small remains of a fire , which , till Eli\n",
      "lexion was sallow ; and her features small , without beauty , and naturally wit\n",
      " for their brother and sister , to a small musical party at her house . The con\n",
      "empt him to be disobedient , and how small was the consolation , beyond the con\n",
      "valuable .-- It is a rectory , but a small one ; the late incumbent , I believe\n",
      "ned with regret , that the house was small and indifferent ;-- an evil which El\n",
      "ruth obliged her to acknowledge some small share in the action , but she was at\n",
      "\" Aye , aye , the parsonage is but a small one ,\" said she , after the first eb\n",
      " being a clergyman , and living in a small parsonage - house , diverted him bey\n"
     ]
    }
   ],
   "source": [
    "text2.concordance(\"small\")"
   ]
  },
  {
   "cell_type": "code",
   "execution_count": null,
   "metadata": {
    "collapsed": true
   },
   "outputs": [],
   "source": []
  }
 ],
 "metadata": {
  "kernelspec": {
   "display_name": "Python 2",
   "language": "python",
   "name": "python2"
  },
  "language_info": {
   "codemirror_mode": {
    "name": "ipython",
    "version": 2
   },
   "file_extension": ".py",
   "mimetype": "text/x-python",
   "name": "python",
   "nbconvert_exporter": "python",
   "pygments_lexer": "ipython2",
   "version": "2.7.11"
  }
 },
 "nbformat": 4,
 "nbformat_minor": 0
}
